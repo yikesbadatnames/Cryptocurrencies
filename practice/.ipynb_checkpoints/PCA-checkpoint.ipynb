{
 "cells": [
  {
   "cell_type": "code",
   "execution_count": 11,
   "id": "e551c0a2",
   "metadata": {},
   "outputs": [],
   "source": [
    "import pandas as pd\n",
    "from sklearn.preprocessing import StandardScaler\n",
    "from sklearn.decomposition import PCA\n",
    "from sklearn.cluster import KMeans\n",
    "from sklearn.cluster import AgglomerativeClustering\n",
    "import hvplot.pandas\n",
    "import plotly.figure_factory as ff\n"
   ]
  },
  {
   "cell_type": "code",
   "execution_count": 2,
   "id": "4c456f85",
   "metadata": {},
   "outputs": [
    {
     "data": {
      "text/html": [
       "<div>\n",
       "<style scoped>\n",
       "    .dataframe tbody tr th:only-of-type {\n",
       "        vertical-align: middle;\n",
       "    }\n",
       "\n",
       "    .dataframe tbody tr th {\n",
       "        vertical-align: top;\n",
       "    }\n",
       "\n",
       "    .dataframe thead th {\n",
       "        text-align: right;\n",
       "    }\n",
       "</style>\n",
       "<table border=\"1\" class=\"dataframe\">\n",
       "  <thead>\n",
       "    <tr style=\"text-align: right;\">\n",
       "      <th></th>\n",
       "      <th>sepal_length</th>\n",
       "      <th>sepal_width</th>\n",
       "      <th>petal_length</th>\n",
       "      <th>petal_width</th>\n",
       "    </tr>\n",
       "  </thead>\n",
       "  <tbody>\n",
       "    <tr>\n",
       "      <th>0</th>\n",
       "      <td>5.1</td>\n",
       "      <td>3.5</td>\n",
       "      <td>1.4</td>\n",
       "      <td>0.2</td>\n",
       "    </tr>\n",
       "    <tr>\n",
       "      <th>1</th>\n",
       "      <td>4.9</td>\n",
       "      <td>3.0</td>\n",
       "      <td>1.4</td>\n",
       "      <td>0.2</td>\n",
       "    </tr>\n",
       "    <tr>\n",
       "      <th>2</th>\n",
       "      <td>4.7</td>\n",
       "      <td>3.2</td>\n",
       "      <td>1.3</td>\n",
       "      <td>0.2</td>\n",
       "    </tr>\n",
       "    <tr>\n",
       "      <th>3</th>\n",
       "      <td>4.6</td>\n",
       "      <td>3.1</td>\n",
       "      <td>1.5</td>\n",
       "      <td>0.2</td>\n",
       "    </tr>\n",
       "    <tr>\n",
       "      <th>4</th>\n",
       "      <td>5.0</td>\n",
       "      <td>3.6</td>\n",
       "      <td>1.4</td>\n",
       "      <td>0.2</td>\n",
       "    </tr>\n",
       "  </tbody>\n",
       "</table>\n",
       "</div>"
      ],
      "text/plain": [
       "   sepal_length  sepal_width  petal_length  petal_width\n",
       "0           5.1          3.5           1.4          0.2\n",
       "1           4.9          3.0           1.4          0.2\n",
       "2           4.7          3.2           1.3          0.2\n",
       "3           4.6          3.1           1.5          0.2\n",
       "4           5.0          3.6           1.4          0.2"
      ]
     },
     "execution_count": 2,
     "metadata": {},
     "output_type": "execute_result"
    }
   ],
   "source": [
    "file_path = \"./new_iris_data.csv\"\n",
    "df_iris = pd.read_csv(file_path)\n",
    "df_iris.head()"
   ]
  },
  {
   "cell_type": "code",
   "execution_count": 3,
   "id": "762c0b0b",
   "metadata": {},
   "outputs": [
    {
     "name": "stdout",
     "output_type": "stream",
     "text": [
      "[[-0.90068117  1.03205722 -1.3412724  -1.31297673]\n",
      " [-1.14301691 -0.1249576  -1.3412724  -1.31297673]\n",
      " [-1.38535265  0.33784833 -1.39813811 -1.31297673]\n",
      " [-1.50652052  0.10644536 -1.2844067  -1.31297673]\n",
      " [-1.02184904  1.26346019 -1.3412724  -1.31297673]]\n"
     ]
    }
   ],
   "source": [
    "iris_scaled = StandardScaler().fit_transform(df_iris)\n",
    "print(iris_scaled[0:5])"
   ]
  },
  {
   "cell_type": "code",
   "execution_count": 4,
   "id": "bc673158",
   "metadata": {},
   "outputs": [],
   "source": [
    "# Initialize PCA model\n",
    "pca = PCA(n_components=2)"
   ]
  },
  {
   "cell_type": "code",
   "execution_count": 5,
   "id": "38e92bdf",
   "metadata": {},
   "outputs": [],
   "source": [
    "# Get two principal components for the iris data.\n",
    "iris_pca = pca.fit_transform(iris_scaled)"
   ]
  },
  {
   "cell_type": "code",
   "execution_count": 6,
   "id": "2af10c82",
   "metadata": {},
   "outputs": [
    {
     "data": {
      "text/html": [
       "<div>\n",
       "<style scoped>\n",
       "    .dataframe tbody tr th:only-of-type {\n",
       "        vertical-align: middle;\n",
       "    }\n",
       "\n",
       "    .dataframe tbody tr th {\n",
       "        vertical-align: top;\n",
       "    }\n",
       "\n",
       "    .dataframe thead th {\n",
       "        text-align: right;\n",
       "    }\n",
       "</style>\n",
       "<table border=\"1\" class=\"dataframe\">\n",
       "  <thead>\n",
       "    <tr style=\"text-align: right;\">\n",
       "      <th></th>\n",
       "      <th>principal component 1</th>\n",
       "      <th>principal component 2</th>\n",
       "    </tr>\n",
       "  </thead>\n",
       "  <tbody>\n",
       "    <tr>\n",
       "      <th>0</th>\n",
       "      <td>-2.264542</td>\n",
       "      <td>0.505704</td>\n",
       "    </tr>\n",
       "    <tr>\n",
       "      <th>1</th>\n",
       "      <td>-2.086426</td>\n",
       "      <td>-0.655405</td>\n",
       "    </tr>\n",
       "    <tr>\n",
       "      <th>2</th>\n",
       "      <td>-2.367950</td>\n",
       "      <td>-0.318477</td>\n",
       "    </tr>\n",
       "    <tr>\n",
       "      <th>3</th>\n",
       "      <td>-2.304197</td>\n",
       "      <td>-0.575368</td>\n",
       "    </tr>\n",
       "    <tr>\n",
       "      <th>4</th>\n",
       "      <td>-2.388777</td>\n",
       "      <td>0.674767</td>\n",
       "    </tr>\n",
       "  </tbody>\n",
       "</table>\n",
       "</div>"
      ],
      "text/plain": [
       "   principal component 1  principal component 2\n",
       "0              -2.264542               0.505704\n",
       "1              -2.086426              -0.655405\n",
       "2              -2.367950              -0.318477\n",
       "3              -2.304197              -0.575368\n",
       "4              -2.388777               0.674767"
      ]
     },
     "execution_count": 6,
     "metadata": {},
     "output_type": "execute_result"
    }
   ],
   "source": [
    "df_iris_pca = pd.DataFrame(\n",
    "    data=iris_pca, columns=[\"principal component 1\",\"principal component 2\" ]\n",
    ")\n",
    "df_iris_pca.head()"
   ]
  },
  {
   "cell_type": "code",
   "execution_count": 7,
   "id": "a8be33d3",
   "metadata": {},
   "outputs": [
    {
     "data": {},
     "metadata": {},
     "output_type": "display_data"
    },
    {
     "data": {
      "application/vnd.holoviews_exec.v0+json": "",
      "text/html": [
       "<div id='1002'>\n",
       "\n",
       "\n",
       "\n",
       "\n",
       "\n",
       "  <div class=\"bk-root\" id=\"31f8ad3d-cc5e-4e58-a585-ecc50c306793\" data-root-id=\"1002\"></div>\n",
       "</div>\n",
       "<script type=\"application/javascript\">(function(root) {\n",
       "  function embed_document(root) {\n",
       "    var docs_json = {\"035ab05b-bfe5-452d-9d87-d8abea332f60\":{\"defs\":[{\"extends\":null,\"module\":null,\"name\":\"ReactiveHTML1\",\"overrides\":[],\"properties\":[]},{\"extends\":null,\"module\":null,\"name\":\"FlexBox1\",\"overrides\":[],\"properties\":[{\"default\":\"flex-start\",\"kind\":null,\"name\":\"align_content\"},{\"default\":\"flex-start\",\"kind\":null,\"name\":\"align_items\"},{\"default\":\"row\",\"kind\":null,\"name\":\"flex_direction\"},{\"default\":\"wrap\",\"kind\":null,\"name\":\"flex_wrap\"},{\"default\":\"flex-start\",\"kind\":null,\"name\":\"justify_content\"}]},{\"extends\":null,\"module\":null,\"name\":\"TemplateActions1\",\"overrides\":[],\"properties\":[{\"default\":0,\"kind\":null,\"name\":\"open_modal\"},{\"default\":0,\"kind\":null,\"name\":\"close_modal\"}]},{\"extends\":null,\"module\":null,\"name\":\"MaterialTemplateActions1\",\"overrides\":[],\"properties\":[{\"default\":0,\"kind\":null,\"name\":\"open_modal\"},{\"default\":0,\"kind\":null,\"name\":\"close_modal\"}]}],\"roots\":{\"references\":[{\"attributes\":{\"end\":629.44480643374,\"reset_end\":629.44480643374,\"reset_start\":-26.2226447444369,\"start\":-26.2226447444369,\"tags\":[[[\"inertia\",\"inertia\",null]]]},\"id\":\"1005\",\"type\":\"Range1d\"},{\"attributes\":{\"axis_label\":\"k\",\"coordinates\":null,\"formatter\":{\"id\":\"1048\"},\"group\":null,\"major_label_policy\":{\"id\":\"1049\"},\"ticker\":{\"id\":\"1046\"}},\"id\":\"1016\",\"type\":\"LinearAxis\"},{\"attributes\":{\"data\":{\"inertia\":{\"__ndarray__\":\"ajafYnL2gUA2bWBmntZoQKSmqsr9Bl1AUfWgT6xnVkDi0qR94pNQQBAzFtg6gkxAMolQDTvuR0D5MOcNVaJDQOe1b3wwFkBA8i2/QpNqPEA=\",\"dtype\":\"float64\",\"order\":\"little\",\"shape\":[10]},\"k\":[1,2,3,4,5,6,7,8,9,10]},\"selected\":{\"id\":\"1038\"},\"selection_policy\":{\"id\":\"1061\"}},\"id\":\"1037\",\"type\":\"ColumnDataSource\"},{\"attributes\":{},\"id\":\"1026\",\"type\":\"WheelZoomTool\"},{\"attributes\":{\"line_color\":\"#30a2da\",\"line_width\":2,\"x\":{\"field\":\"k\"},\"y\":{\"field\":\"inertia\"}},\"id\":\"1045\",\"type\":\"Line\"},{\"attributes\":{},\"id\":\"1053\",\"type\":\"BasicTickFormatter\"},{\"attributes\":{\"axis\":{\"id\":\"1020\"},\"coordinates\":null,\"dimension\":1,\"grid_line_color\":null,\"group\":null,\"ticker\":null},\"id\":\"1023\",\"type\":\"Grid\"},{\"attributes\":{\"tools\":[{\"id\":\"1006\"},{\"id\":\"1024\"},{\"id\":\"1025\"},{\"id\":\"1026\"},{\"id\":\"1027\"},{\"id\":\"1028\"}]},\"id\":\"1030\",\"type\":\"Toolbar\"},{\"attributes\":{},\"id\":\"1049\",\"type\":\"AllLabels\"},{\"attributes\":{},\"id\":\"1038\",\"type\":\"Selection\"},{\"attributes\":{\"line_color\":\"#30a2da\",\"line_width\":2,\"x\":{\"field\":\"k\"},\"y\":{\"field\":\"inertia\"}},\"id\":\"1040\",\"type\":\"Line\"},{\"attributes\":{\"coordinates\":null,\"group\":null,\"text\":\"Elbow Curve\",\"text_color\":\"black\",\"text_font_size\":\"12pt\"},\"id\":\"1008\",\"type\":\"Title\"},{\"attributes\":{},\"id\":\"1028\",\"type\":\"ResetTool\"},{\"attributes\":{\"ticks\":[1,2,3,4,5,6,7,8,9,10]},\"id\":\"1046\",\"type\":\"FixedTicker\"},{\"attributes\":{},\"id\":\"1014\",\"type\":\"LinearScale\"},{\"attributes\":{},\"id\":\"1061\",\"type\":\"UnionRenderers\"},{\"attributes\":{\"bottom_units\":\"screen\",\"coordinates\":null,\"fill_alpha\":0.5,\"fill_color\":\"lightgrey\",\"group\":null,\"left_units\":\"screen\",\"level\":\"overlay\",\"line_alpha\":1.0,\"line_color\":\"black\",\"line_dash\":[4,4],\"line_width\":2,\"right_units\":\"screen\",\"syncable\":false,\"top_units\":\"screen\"},\"id\":\"1029\",\"type\":\"BoxAnnotation\"},{\"attributes\":{\"margin\":[5,5,5,5],\"name\":\"HSpacer01631\",\"sizing_mode\":\"stretch_width\"},\"id\":\"1003\",\"type\":\"Spacer\"},{\"attributes\":{\"margin\":[5,5,5,5],\"name\":\"HSpacer01632\",\"sizing_mode\":\"stretch_width\"},\"id\":\"1073\",\"type\":\"Spacer\"},{\"attributes\":{\"coordinates\":null,\"data_source\":{\"id\":\"1037\"},\"glyph\":{\"id\":\"1040\"},\"group\":null,\"hover_glyph\":null,\"muted_glyph\":{\"id\":\"1042\"},\"nonselection_glyph\":{\"id\":\"1041\"},\"selection_glyph\":{\"id\":\"1045\"},\"view\":{\"id\":\"1044\"}},\"id\":\"1043\",\"type\":\"GlyphRenderer\"},{\"attributes\":{},\"id\":\"1012\",\"type\":\"LinearScale\"},{\"attributes\":{\"children\":[{\"id\":\"1003\"},{\"id\":\"1007\"},{\"id\":\"1073\"}],\"margin\":[0,0,0,0],\"name\":\"Row01627\",\"tags\":[\"embedded\"]},\"id\":\"1002\",\"type\":\"Row\"},{\"attributes\":{\"axis_label\":\"inertia\",\"coordinates\":null,\"formatter\":{\"id\":\"1053\"},\"group\":null,\"major_label_policy\":{\"id\":\"1054\"},\"ticker\":{\"id\":\"1021\"}},\"id\":\"1020\",\"type\":\"LinearAxis\"},{\"attributes\":{\"line_alpha\":0.2,\"line_color\":\"#30a2da\",\"line_width\":2,\"x\":{\"field\":\"k\"},\"y\":{\"field\":\"inertia\"}},\"id\":\"1042\",\"type\":\"Line\"},{\"attributes\":{\"below\":[{\"id\":\"1016\"}],\"center\":[{\"id\":\"1019\"},{\"id\":\"1023\"}],\"height\":300,\"left\":[{\"id\":\"1020\"}],\"margin\":[5,5,5,5],\"min_border_bottom\":10,\"min_border_left\":10,\"min_border_right\":10,\"min_border_top\":10,\"renderers\":[{\"id\":\"1043\"}],\"sizing_mode\":\"fixed\",\"title\":{\"id\":\"1008\"},\"toolbar\":{\"id\":\"1030\"},\"width\":700,\"x_range\":{\"id\":\"1004\"},\"x_scale\":{\"id\":\"1012\"},\"y_range\":{\"id\":\"1005\"},\"y_scale\":{\"id\":\"1014\"}},\"id\":\"1007\",\"subtype\":\"Figure\",\"type\":\"Plot\"},{\"attributes\":{\"axis\":{\"id\":\"1016\"},\"coordinates\":null,\"grid_line_color\":null,\"group\":null,\"ticker\":null},\"id\":\"1019\",\"type\":\"Grid\"},{\"attributes\":{\"line_alpha\":0.1,\"line_color\":\"#30a2da\",\"line_width\":2,\"x\":{\"field\":\"k\"},\"y\":{\"field\":\"inertia\"}},\"id\":\"1041\",\"type\":\"Line\"},{\"attributes\":{},\"id\":\"1054\",\"type\":\"AllLabels\"},{\"attributes\":{\"end\":10.0,\"reset_end\":10.0,\"reset_start\":1.0,\"start\":1.0,\"tags\":[[[\"k\",\"k\",null]]]},\"id\":\"1004\",\"type\":\"Range1d\"},{\"attributes\":{},\"id\":\"1025\",\"type\":\"PanTool\"},{\"attributes\":{},\"id\":\"1048\",\"type\":\"BasicTickFormatter\"},{\"attributes\":{\"source\":{\"id\":\"1037\"}},\"id\":\"1044\",\"type\":\"CDSView\"},{\"attributes\":{\"callback\":null,\"renderers\":[{\"id\":\"1043\"}],\"tags\":[\"hv_created\"],\"tooltips\":[[\"k\",\"@{k}\"],[\"inertia\",\"@{inertia}\"]]},\"id\":\"1006\",\"type\":\"HoverTool\"},{\"attributes\":{},\"id\":\"1021\",\"type\":\"BasicTicker\"},{\"attributes\":{\"overlay\":{\"id\":\"1029\"}},\"id\":\"1027\",\"type\":\"BoxZoomTool\"},{\"attributes\":{},\"id\":\"1024\",\"type\":\"SaveTool\"}],\"root_ids\":[\"1002\"]},\"title\":\"Bokeh Application\",\"version\":\"2.4.2\"}};\n",
       "    var render_items = [{\"docid\":\"035ab05b-bfe5-452d-9d87-d8abea332f60\",\"root_ids\":[\"1002\"],\"roots\":{\"1002\":\"31f8ad3d-cc5e-4e58-a585-ecc50c306793\"}}];\n",
       "    root.Bokeh.embed.embed_items_notebook(docs_json, render_items);\n",
       "  }\n",
       "  if (root.Bokeh !== undefined && root.Bokeh.Panel !== undefined) {\n",
       "    embed_document(root);\n",
       "  } else {\n",
       "    var attempts = 0;\n",
       "    var timer = setInterval(function(root) {\n",
       "      if (root.Bokeh !== undefined && root.Bokeh.Panel !== undefined) {\n",
       "        clearInterval(timer);\n",
       "        embed_document(root);\n",
       "      } else if (document.readyState == \"complete\") {\n",
       "        attempts++;\n",
       "        if (attempts > 200) {\n",
       "          clearInterval(timer);\n",
       "          console.log(\"Bokeh: ERROR: Unable to run BokehJS code because BokehJS library is missing\");\n",
       "        }\n",
       "      }\n",
       "    }, 25, root)\n",
       "  }\n",
       "})(window);</script>"
      ],
      "text/plain": [
       ":Curve   [k]   (inertia)"
      ]
     },
     "execution_count": 7,
     "metadata": {
      "application/vnd.holoviews_exec.v0+json": {
       "id": "1002"
      }
     },
     "output_type": "execute_result"
    }
   ],
   "source": [
    "# Find the best value for K\n",
    "inertia = []\n",
    "k = list(range(1, 11))\n",
    "\n",
    "# Calculate the inertia for the range of K values\n",
    "for i in k:\n",
    "    km = KMeans(n_clusters=i, random_state=0)\n",
    "    km.fit(df_iris_pca)\n",
    "    inertia.append(km.inertia_)\n",
    "\n",
    "# Create the elbow curve\n",
    "elbow_data = {\"k\": k, \"inertia\": inertia}\n",
    "df_elbow = pd.DataFrame(elbow_data)\n",
    "df_elbow.hvplot.line(x=\"k\", y=\"inertia\", xticks=k, title=\"Elbow Curve\")"
   ]
  },
  {
   "cell_type": "code",
   "execution_count": 8,
   "id": "6a873d1e",
   "metadata": {},
   "outputs": [
    {
     "data": {
      "text/html": [
       "<div>\n",
       "<style scoped>\n",
       "    .dataframe tbody tr th:only-of-type {\n",
       "        vertical-align: middle;\n",
       "    }\n",
       "\n",
       "    .dataframe tbody tr th {\n",
       "        vertical-align: top;\n",
       "    }\n",
       "\n",
       "    .dataframe thead th {\n",
       "        text-align: right;\n",
       "    }\n",
       "</style>\n",
       "<table border=\"1\" class=\"dataframe\">\n",
       "  <thead>\n",
       "    <tr style=\"text-align: right;\">\n",
       "      <th></th>\n",
       "      <th>principal component 1</th>\n",
       "      <th>principal component 2</th>\n",
       "      <th>class</th>\n",
       "    </tr>\n",
       "  </thead>\n",
       "  <tbody>\n",
       "    <tr>\n",
       "      <th>0</th>\n",
       "      <td>-2.264542</td>\n",
       "      <td>0.505704</td>\n",
       "      <td>0</td>\n",
       "    </tr>\n",
       "    <tr>\n",
       "      <th>1</th>\n",
       "      <td>-2.086426</td>\n",
       "      <td>-0.655405</td>\n",
       "      <td>0</td>\n",
       "    </tr>\n",
       "    <tr>\n",
       "      <th>2</th>\n",
       "      <td>-2.367950</td>\n",
       "      <td>-0.318477</td>\n",
       "      <td>0</td>\n",
       "    </tr>\n",
       "    <tr>\n",
       "      <th>3</th>\n",
       "      <td>-2.304197</td>\n",
       "      <td>-0.575368</td>\n",
       "      <td>0</td>\n",
       "    </tr>\n",
       "    <tr>\n",
       "      <th>4</th>\n",
       "      <td>-2.388777</td>\n",
       "      <td>0.674767</td>\n",
       "      <td>0</td>\n",
       "    </tr>\n",
       "  </tbody>\n",
       "</table>\n",
       "</div>"
      ],
      "text/plain": [
       "   principal component 1  principal component 2  class\n",
       "0              -2.264542               0.505704      0\n",
       "1              -2.086426              -0.655405      0\n",
       "2              -2.367950              -0.318477      0\n",
       "3              -2.304197              -0.575368      0\n",
       "4              -2.388777               0.674767      0"
      ]
     },
     "execution_count": 8,
     "metadata": {},
     "output_type": "execute_result"
    }
   ],
   "source": [
    "# Initialize the K-means model\n",
    "model = KMeans(n_clusters=3, random_state=0)\n",
    "\n",
    "# Fit the model\n",
    "model.fit(df_iris_pca)\n",
    "\n",
    "# Predict clusters\n",
    "predictions = model.predict(df_iris_pca)\n",
    "\n",
    "# Add the predicted class columns\n",
    "df_iris_pca[\"class\"] = model.labels_\n",
    "df_iris_pca.head()"
   ]
  },
  {
   "cell_type": "code",
   "execution_count": 9,
   "id": "848c08ae",
   "metadata": {},
   "outputs": [
    {
     "data": {},
     "metadata": {},
     "output_type": "display_data"
    },
    {
     "data": {
      "application/vnd.holoviews_exec.v0+json": "",
      "text/html": [
       "<div id='1120'>\n",
       "\n",
       "\n",
       "\n",
       "\n",
       "\n",
       "  <div class=\"bk-root\" id=\"2c15c2fa-d2d4-4f3d-ba18-ae55169af825\" data-root-id=\"1120\"></div>\n",
       "</div>\n",
       "<script type=\"application/javascript\">(function(root) {\n",
       "  function embed_document(root) {\n",
       "    var docs_json = {\"217647fc-b679-464e-8048-a229c4d9c7a2\":{\"defs\":[{\"extends\":null,\"module\":null,\"name\":\"ReactiveHTML1\",\"overrides\":[],\"properties\":[]},{\"extends\":null,\"module\":null,\"name\":\"FlexBox1\",\"overrides\":[],\"properties\":[{\"default\":\"flex-start\",\"kind\":null,\"name\":\"align_content\"},{\"default\":\"flex-start\",\"kind\":null,\"name\":\"align_items\"},{\"default\":\"row\",\"kind\":null,\"name\":\"flex_direction\"},{\"default\":\"wrap\",\"kind\":null,\"name\":\"flex_wrap\"},{\"default\":\"flex-start\",\"kind\":null,\"name\":\"justify_content\"}]},{\"extends\":null,\"module\":null,\"name\":\"TemplateActions1\",\"overrides\":[],\"properties\":[{\"default\":0,\"kind\":null,\"name\":\"open_modal\"},{\"default\":0,\"kind\":null,\"name\":\"close_modal\"}]},{\"extends\":null,\"module\":null,\"name\":\"MaterialTemplateActions1\",\"overrides\":[],\"properties\":[{\"default\":0,\"kind\":null,\"name\":\"open_modal\"},{\"default\":0,\"kind\":null,\"name\":\"close_modal\"}]}],\"roots\":{\"references\":[{\"attributes\":{},\"id\":\"1141\",\"type\":\"BasicTicker\"},{\"attributes\":{\"axis_label\":\"principal component 2\",\"coordinates\":null,\"formatter\":{\"id\":\"1161\"},\"group\":null,\"major_label_policy\":{\"id\":\"1162\"},\"ticker\":{\"id\":\"1141\"}},\"id\":\"1140\",\"type\":\"LinearAxis\"},{\"attributes\":{\"fill_alpha\":{\"value\":0.2},\"fill_color\":{\"value\":\"#30a2da\"},\"hatch_alpha\":{\"value\":0.2},\"hatch_color\":{\"value\":\"#30a2da\"},\"line_alpha\":{\"value\":0.2},\"line_color\":{\"value\":\"#30a2da\"},\"size\":{\"value\":5.477225575051661},\"x\":{\"field\":\"principal component 1\"},\"y\":{\"field\":\"principal component 2\"}},\"id\":\"1168\",\"type\":\"Scatter\"},{\"attributes\":{\"fill_color\":{\"value\":\"#e5ae38\"},\"hatch_color\":{\"value\":\"#e5ae38\"},\"line_color\":{\"value\":\"#e5ae38\"},\"size\":{\"value\":5.477225575051661},\"x\":{\"field\":\"principal component 1\"},\"y\":{\"field\":\"principal component 2\"}},\"id\":\"1209\",\"type\":\"Scatter\"},{\"attributes\":{\"coordinates\":null,\"data_source\":{\"id\":\"1163\"},\"glyph\":{\"id\":\"1166\"},\"group\":null,\"hover_glyph\":null,\"muted_glyph\":{\"id\":\"1168\"},\"nonselection_glyph\":{\"id\":\"1167\"},\"selection_glyph\":{\"id\":\"1183\"},\"view\":{\"id\":\"1170\"}},\"id\":\"1169\",\"type\":\"GlyphRenderer\"},{\"attributes\":{},\"id\":\"1164\",\"type\":\"Selection\"},{\"attributes\":{\"source\":{\"id\":\"1163\"}},\"id\":\"1170\",\"type\":\"CDSView\"},{\"attributes\":{\"angle\":{\"value\":0.0},\"fill_alpha\":{\"value\":1.0},\"fill_color\":{\"value\":\"#30a2da\"},\"hatch_alpha\":{\"value\":1.0},\"hatch_color\":{\"value\":\"#30a2da\"},\"hatch_scale\":{\"value\":12.0},\"hatch_weight\":{\"value\":1.0},\"line_alpha\":{\"value\":1.0},\"line_cap\":{\"value\":\"butt\"},\"line_color\":{\"value\":\"#30a2da\"},\"line_dash\":{\"value\":[]},\"line_dash_offset\":{\"value\":0},\"line_join\":{\"value\":\"bevel\"},\"line_width\":{\"value\":1},\"marker\":{\"value\":\"circle\"},\"size\":{\"value\":5.477225575051661},\"x\":{\"field\":\"principal component 1\"},\"y\":{\"field\":\"principal component 2\"}},\"id\":\"1183\",\"type\":\"Scatter\"},{\"attributes\":{\"below\":[{\"id\":\"1136\"}],\"center\":[{\"id\":\"1139\"},{\"id\":\"1143\"}],\"height\":300,\"left\":[{\"id\":\"1140\"}],\"margin\":[5,5,5,5],\"min_border_bottom\":10,\"min_border_left\":10,\"min_border_right\":10,\"min_border_top\":10,\"renderers\":[{\"id\":\"1169\"},{\"id\":\"1190\"},{\"id\":\"1212\"}],\"right\":[{\"id\":\"1181\"}],\"sizing_mode\":\"fixed\",\"title\":{\"id\":\"1128\"},\"toolbar\":{\"id\":\"1150\"},\"width\":700,\"x_range\":{\"id\":\"1122\"},\"x_scale\":{\"id\":\"1132\"},\"y_range\":{\"id\":\"1123\"},\"y_scale\":{\"id\":\"1134\"}},\"id\":\"1127\",\"subtype\":\"Figure\",\"type\":\"Plot\"},{\"attributes\":{},\"id\":\"1158\",\"type\":\"BasicTickFormatter\"},{\"attributes\":{\"fill_color\":{\"value\":\"#30a2da\"},\"hatch_color\":{\"value\":\"#30a2da\"},\"line_color\":{\"value\":\"#30a2da\"},\"size\":{\"value\":5.477225575051661},\"x\":{\"field\":\"principal component 1\"},\"y\":{\"field\":\"principal component 2\"}},\"id\":\"1166\",\"type\":\"Scatter\"},{\"attributes\":{\"fill_alpha\":{\"value\":0.1},\"fill_color\":{\"value\":\"#e5ae38\"},\"hatch_alpha\":{\"value\":0.1},\"hatch_color\":{\"value\":\"#e5ae38\"},\"line_alpha\":{\"value\":0.1},\"line_color\":{\"value\":\"#e5ae38\"},\"size\":{\"value\":5.477225575051661},\"x\":{\"field\":\"principal component 1\"},\"y\":{\"field\":\"principal component 2\"}},\"id\":\"1210\",\"type\":\"Scatter\"},{\"attributes\":{},\"id\":\"1178\",\"type\":\"UnionRenderers\"},{\"attributes\":{\"click_policy\":\"mute\",\"coordinates\":null,\"group\":null,\"items\":[{\"id\":\"1182\"},{\"id\":\"1204\"},{\"id\":\"1228\"}],\"location\":[0,0],\"title\":\"class\"},\"id\":\"1181\",\"type\":\"Legend\"},{\"attributes\":{\"callback\":null,\"renderers\":[{\"id\":\"1169\"},{\"id\":\"1190\"},{\"id\":\"1212\"}],\"tags\":[\"hv_created\"],\"tooltips\":[[\"class\",\"@{class}\"],[\"principal component 1\",\"@{principal_component_1}\"],[\"principal component 2\",\"@{principal_component_2}\"]]},\"id\":\"1124\",\"type\":\"HoverTool\"},{\"attributes\":{},\"id\":\"1162\",\"type\":\"AllLabels\"},{\"attributes\":{},\"id\":\"1132\",\"type\":\"LinearScale\"},{\"attributes\":{\"angle\":{\"value\":0.0},\"fill_alpha\":{\"value\":1.0},\"fill_color\":{\"value\":\"#fc4f30\"},\"hatch_alpha\":{\"value\":1.0},\"hatch_color\":{\"value\":\"#fc4f30\"},\"hatch_scale\":{\"value\":12.0},\"hatch_weight\":{\"value\":1.0},\"line_alpha\":{\"value\":1.0},\"line_cap\":{\"value\":\"butt\"},\"line_color\":{\"value\":\"#fc4f30\"},\"line_dash\":{\"value\":[]},\"line_dash_offset\":{\"value\":0},\"line_join\":{\"value\":\"bevel\"},\"line_width\":{\"value\":1},\"marker\":{\"value\":\"circle\"},\"size\":{\"value\":5.477225575051661},\"x\":{\"field\":\"principal component 1\"},\"y\":{\"field\":\"principal component 2\"}},\"id\":\"1205\",\"type\":\"Scatter\"},{\"attributes\":{\"source\":{\"id\":\"1206\"}},\"id\":\"1213\",\"type\":\"CDSView\"},{\"attributes\":{},\"id\":\"1159\",\"type\":\"AllLabels\"},{\"attributes\":{},\"id\":\"1144\",\"type\":\"SaveTool\"},{\"attributes\":{\"angle\":{\"value\":0.0},\"fill_alpha\":{\"value\":1.0},\"fill_color\":{\"value\":\"#e5ae38\"},\"hatch_alpha\":{\"value\":1.0},\"hatch_color\":{\"value\":\"#e5ae38\"},\"hatch_scale\":{\"value\":12.0},\"hatch_weight\":{\"value\":1.0},\"line_alpha\":{\"value\":1.0},\"line_cap\":{\"value\":\"butt\"},\"line_color\":{\"value\":\"#e5ae38\"},\"line_dash\":{\"value\":[]},\"line_dash_offset\":{\"value\":0},\"line_join\":{\"value\":\"bevel\"},\"line_width\":{\"value\":1},\"marker\":{\"value\":\"circle\"},\"size\":{\"value\":5.477225575051661},\"x\":{\"field\":\"principal component 1\"},\"y\":{\"field\":\"principal component 2\"}},\"id\":\"1229\",\"type\":\"Scatter\"},{\"attributes\":{\"label\":{\"value\":\"0\"},\"renderers\":[{\"id\":\"1169\"}]},\"id\":\"1182\",\"type\":\"LegendItem\"},{\"attributes\":{\"fill_color\":{\"value\":\"#fc4f30\"},\"hatch_color\":{\"value\":\"#fc4f30\"},\"line_color\":{\"value\":\"#fc4f30\"},\"size\":{\"value\":5.477225575051661},\"x\":{\"field\":\"principal component 1\"},\"y\":{\"field\":\"principal component 2\"}},\"id\":\"1187\",\"type\":\"Scatter\"},{\"attributes\":{},\"id\":\"1145\",\"type\":\"PanTool\"},{\"attributes\":{\"label\":{\"value\":\"2\"},\"renderers\":[{\"id\":\"1212\"}]},\"id\":\"1228\",\"type\":\"LegendItem\"},{\"attributes\":{},\"id\":\"1161\",\"type\":\"BasicTickFormatter\"},{\"attributes\":{},\"id\":\"1201\",\"type\":\"UnionRenderers\"},{\"attributes\":{},\"id\":\"1146\",\"type\":\"WheelZoomTool\"},{\"attributes\":{},\"id\":\"1225\",\"type\":\"UnionRenderers\"},{\"attributes\":{\"children\":[{\"id\":\"1121\"},{\"id\":\"1127\"},{\"id\":\"1356\"}],\"margin\":[0,0,0,0],\"name\":\"Row01858\",\"tags\":[\"embedded\"]},\"id\":\"1120\",\"type\":\"Row\"},{\"attributes\":{\"tools\":[{\"id\":\"1124\"},{\"id\":\"1144\"},{\"id\":\"1145\"},{\"id\":\"1146\"},{\"id\":\"1147\"},{\"id\":\"1148\"}]},\"id\":\"1150\",\"type\":\"Toolbar\"},{\"attributes\":{\"fill_alpha\":{\"value\":0.1},\"fill_color\":{\"value\":\"#fc4f30\"},\"hatch_alpha\":{\"value\":0.1},\"hatch_color\":{\"value\":\"#fc4f30\"},\"line_alpha\":{\"value\":0.1},\"line_color\":{\"value\":\"#fc4f30\"},\"size\":{\"value\":5.477225575051661},\"x\":{\"field\":\"principal component 1\"},\"y\":{\"field\":\"principal component 2\"}},\"id\":\"1188\",\"type\":\"Scatter\"},{\"attributes\":{\"overlay\":{\"id\":\"1149\"}},\"id\":\"1147\",\"type\":\"BoxZoomTool\"},{\"attributes\":{\"end\":3.260414452028092,\"reset_end\":3.260414452028092,\"reset_start\":-3.196106053415383,\"start\":-3.196106053415383,\"tags\":[[[\"principal component 2\",\"principal component 2\",null]]]},\"id\":\"1123\",\"type\":\"Range1d\"},{\"attributes\":{},\"id\":\"1185\",\"type\":\"Selection\"},{\"attributes\":{\"label\":{\"value\":\"1\"},\"renderers\":[{\"id\":\"1190\"}]},\"id\":\"1204\",\"type\":\"LegendItem\"},{\"attributes\":{\"margin\":[5,5,5,5],\"name\":\"HSpacer01862\",\"sizing_mode\":\"stretch_width\"},\"id\":\"1121\",\"type\":\"Spacer\"},{\"attributes\":{\"axis\":{\"id\":\"1140\"},\"coordinates\":null,\"dimension\":1,\"grid_line_color\":null,\"group\":null,\"ticker\":null},\"id\":\"1143\",\"type\":\"Grid\"},{\"attributes\":{},\"id\":\"1148\",\"type\":\"ResetTool\"},{\"attributes\":{\"axis_label\":\"principal component 1\",\"coordinates\":null,\"formatter\":{\"id\":\"1158\"},\"group\":null,\"major_label_policy\":{\"id\":\"1159\"},\"ticker\":{\"id\":\"1137\"}},\"id\":\"1136\",\"type\":\"LinearAxis\"},{\"attributes\":{\"fill_alpha\":{\"value\":0.2},\"fill_color\":{\"value\":\"#fc4f30\"},\"hatch_alpha\":{\"value\":0.2},\"hatch_color\":{\"value\":\"#fc4f30\"},\"line_alpha\":{\"value\":0.2},\"line_color\":{\"value\":\"#fc4f30\"},\"size\":{\"value\":5.477225575051661},\"x\":{\"field\":\"principal component 1\"},\"y\":{\"field\":\"principal component 2\"}},\"id\":\"1189\",\"type\":\"Scatter\"},{\"attributes\":{\"fill_alpha\":{\"value\":0.2},\"fill_color\":{\"value\":\"#e5ae38\"},\"hatch_alpha\":{\"value\":0.2},\"hatch_color\":{\"value\":\"#e5ae38\"},\"line_alpha\":{\"value\":0.2},\"line_color\":{\"value\":\"#e5ae38\"},\"size\":{\"value\":5.477225575051661},\"x\":{\"field\":\"principal component 1\"},\"y\":{\"field\":\"principal component 2\"}},\"id\":\"1211\",\"type\":\"Scatter\"},{\"attributes\":{\"bottom_units\":\"screen\",\"coordinates\":null,\"fill_alpha\":0.5,\"fill_color\":\"lightgrey\",\"group\":null,\"left_units\":\"screen\",\"level\":\"overlay\",\"line_alpha\":1.0,\"line_color\":\"black\",\"line_dash\":[4,4],\"line_width\":2,\"right_units\":\"screen\",\"syncable\":false,\"top_units\":\"screen\"},\"id\":\"1149\",\"type\":\"BoxAnnotation\"},{\"attributes\":{\"coordinates\":null,\"group\":null,\"text_color\":\"black\",\"text_font_size\":\"12pt\"},\"id\":\"1128\",\"type\":\"Title\"},{\"attributes\":{\"data\":{\"class\":{\"__ndarray__\":\"AAAAAAAAAAAAAAAAAAAAAAAAAAAAAAAAAAAAAAAAAAAAAAAAAAAAAAAAAAAAAAAAAAAAAAAAAAAAAAAAAAAAAAAAAAAAAAAAAAAAAAAAAAAAAAAAAAAAAAAAAAAAAAAAAAAAAAAAAAAAAAAAAAAAAAAAAAAAAAAAAAAAAAAAAAAAAAAAAAAAAAAAAAAAAAAAAAAAAAAAAAAAAAAAAAAAAAAAAAAAAAAAAAAAAAAAAAAAAAAAAAAAAAAAAAAAAAAAAAAAAAAAAAA=\",\"dtype\":\"int32\",\"order\":\"little\",\"shape\":[50]},\"principal component 1\":{\"__ndarray__\":\"QBG/DcgdAsCiflXa/7AAwC8tSgGQ8QLArnjV6/5uAsB/OOBfNxwDwLMJAJp1kADA7VhZG9GQA8C7vPx66N4BwLvvZ05UvALA5NUzb2iCAcDGACQK0k4BwH+PWzp4ngLAbUHW4evKAcBzYBiPIx4FwOBkYiHQiQHA7cLFMQADAsDEicmkO58BwNTnRqd8hQHAErKL2CBO/r9wMd43N7gCwDou6+IFov6/KnpNIB2jAcAkHszufzEGwHWyHOBnIP2/dG9EsmPTAcBoStBn+E//v+kJWiugagDA0BcE6nVYAcD06Z27WB8BwCQNM3l7JgLA3+URJwwoAcCxCNRTnk/9v3aUD3eZ3QTAxoxIYeyAA8Dk1TNvaIIBwAbB4qBfsAHAqQtPDPdaAMDk1TNvaIIBwJ/dMoLUfAPAVSP02UddAcA84QHLzkoCwGRzDEaD8v2/YPlj5HF2BMD6iQQfsG3/v/qHnMYlEQHAoe7lFFWaAMDR+qMb0QwDwJNmoB9/LwPAK5osq3LQAcDejpZMy6UBwA==\",\"dtype\":\"float64\",\"order\":\"little\",\"shape\":[50]},\"principal component 2\":{\"__ndarray__\":\"Ze9787ku4D/dF8lWE/nkv2fYpqjuYdS/DCSQjGlp4r/T0afLsZflP7i+IZP5S/g/RCSoGooWsz92eXQ10LHPP80IOjG4hfG/g06pnFa23L9nMKXTKCHxPza/qP2XTMQ/o6o3kBix5r+EiXLvZwbuv9eryBtaPf4/krWrfGrHBUBdjF03Ujj4PzT+/04udeA/8kk0V9Tl9j8mpZIPTofyP2zAlsG9jNs/2PKSxId67j9Du+o4P1TfPx/WDBwFVLs/VO1BJITCxD+zYRod23Pjv2yqjuRgBtE/boxIfx6q4T/eGaA2hIvVP1pBWpX4JtS/QQayRej43r8Olx54QH/cP7VxJTRvQf0/w7Jwma57AUCDTqmcVrbcvxTn16FhmMe/seVDvSnr5T+DTqmcVrbcv3PEP1q7Ouy/d0SP1gm80j9VwmaGk/PdP31/28YcnwLAoO8l3FML3b9lssu+Q9XfP+zeGJkvvvI/+Iwv2S8k5r9SqsG4/WjyP8+ttwhpMde/du6vZGBo8D/v7UmWeoGgPw==\",\"dtype\":\"float64\",\"order\":\"little\",\"shape\":[50]},\"principal_component_1\":{\"__ndarray__\":\"QBG/DcgdAsCiflXa/7AAwC8tSgGQ8QLArnjV6/5uAsB/OOBfNxwDwLMJAJp1kADA7VhZG9GQA8C7vPx66N4BwLvvZ05UvALA5NUzb2iCAcDGACQK0k4BwH+PWzp4ngLAbUHW4evKAcBzYBiPIx4FwOBkYiHQiQHA7cLFMQADAsDEicmkO58BwNTnRqd8hQHAErKL2CBO/r9wMd43N7gCwDou6+IFov6/KnpNIB2jAcAkHszufzEGwHWyHOBnIP2/dG9EsmPTAcBoStBn+E//v+kJWiugagDA0BcE6nVYAcD06Z27WB8BwCQNM3l7JgLA3+URJwwoAcCxCNRTnk/9v3aUD3eZ3QTAxoxIYeyAA8Dk1TNvaIIBwAbB4qBfsAHAqQtPDPdaAMDk1TNvaIIBwJ/dMoLUfAPAVSP02UddAcA84QHLzkoCwGRzDEaD8v2/YPlj5HF2BMD6iQQfsG3/v/qHnMYlEQHAoe7lFFWaAMDR+qMb0QwDwJNmoB9/LwPAK5osq3LQAcDejpZMy6UBwA==\",\"dtype\":\"float64\",\"order\":\"little\",\"shape\":[50]},\"principal_component_2\":{\"__ndarray__\":\"Ze9787ku4D/dF8lWE/nkv2fYpqjuYdS/DCSQjGlp4r/T0afLsZflP7i+IZP5S/g/RCSoGooWsz92eXQ10LHPP80IOjG4hfG/g06pnFa23L9nMKXTKCHxPza/qP2XTMQ/o6o3kBix5r+EiXLvZwbuv9eryBtaPf4/krWrfGrHBUBdjF03Ujj4PzT+/04udeA/8kk0V9Tl9j8mpZIPTofyP2zAlsG9jNs/2PKSxId67j9Du+o4P1TfPx/WDBwFVLs/VO1BJITCxD+zYRod23Pjv2yqjuRgBtE/boxIfx6q4T/eGaA2hIvVP1pBWpX4JtS/QQayRej43r8Olx54QH/cP7VxJTRvQf0/w7Jwma57AUCDTqmcVrbcvxTn16FhmMe/seVDvSnr5T+DTqmcVrbcv3PEP1q7Ouy/d0SP1gm80j9VwmaGk/PdP31/28YcnwLAoO8l3FML3b9lssu+Q9XfP+zeGJkvvvI/+Iwv2S8k5r9SqsG4/WjyP8+ttwhpMde/du6vZGBo8D/v7UmWeoGgPw==\",\"dtype\":\"float64\",\"order\":\"little\",\"shape\":[50]}},\"selected\":{\"id\":\"1164\"},\"selection_policy\":{\"id\":\"1178\"}},\"id\":\"1163\",\"type\":\"ColumnDataSource\"},{\"attributes\":{},\"id\":\"1207\",\"type\":\"Selection\"},{\"attributes\":{\"margin\":[5,5,5,5],\"name\":\"HSpacer01863\",\"sizing_mode\":\"stretch_width\"},\"id\":\"1356\",\"type\":\"Spacer\"},{\"attributes\":{\"end\":3.569854510235276,\"reset_end\":3.569854510235276,\"reset_start\":-3.034883121264353,\"start\":-3.034883121264353,\"tags\":[[[\"principal component 1\",\"principal component 1\",null]]]},\"id\":\"1122\",\"type\":\"Range1d\"},{\"attributes\":{\"data\":{\"class\":{\"__ndarray__\":\"AQAAAAEAAAABAAAAAQAAAAEAAAABAAAAAQAAAAEAAAABAAAAAQAAAAEAAAABAAAAAQAAAAEAAAABAAAAAQAAAAEAAAABAAAAAQAAAAEAAAABAAAAAQAAAAEAAAABAAAAAQAAAAEAAAABAAAAAQAAAAEAAAABAAAAAQAAAAEAAAABAAAAAQAAAAEAAAABAAAAAQAAAAEAAAABAAAAAQAAAAEAAAABAAAAAQAAAAEAAAABAAAAAQAAAAEAAAABAAAAAQAAAAEAAAABAAAAAQAAAAEAAAA=\",\"dtype\":\"int32\",\"order\":\"little\",\"shape\":[53]},\"principal component 1\":{\"__ndarray__\":\"dRWMhntt2T9JnJZFWCnxP2WBHlf2mtg//f4dZv7c379yGywXnaPtP4O/kDZaWXQ/M96FPizsv7+uz+h8JxTcP1NNsk78puE/OUUqJwTz5j/Oz63ghxOjv5hu06S8RdY/3rIv7V2iwz9n6iTH4XHzPyjYZACmFsQ/Wq1SDE473j8RyjX41qXzP4wxy7fjI+Q/HNCK7kVq5j8ehVUnIzDlP9kb1FJINai/Nj98rN0cvz9lj1g5BOqMPxrf6GWaNc4/Ds1ZRTXo8D+UsJMoZVfMP8+bvwf1kvA/rV4TnFcrsT9vNwN1kKDRP8F9yQ7wbdE/po3+VwPx4z+z3kvRzh7VP9fEFNWD6de/1iTllsIb0j8oX21EL8y2P/8jQhu5t8w/9ARG5kBd4j/pjFDrsj/dv9yA0gDGJNA/3V8IKHdz8j/soUp+m+/WP1n35HGkDPQ/GuKIxsts9z/7RPpdThD0P4pitwdQKu8/9IqkmmBE9T9ifP3wHsDyP9/2a9zEx/E/KTazatUo8z+XvvFQw4ztP91fCCh3c/I/SdVbMZXv+D832SvtkrLuPw==\",\"dtype\":\"float64\",\"order\":\"little\",\"shape\":[53]},\"principal component 2\":{\"__ndarray__\":\"j80hw3Uh/L+EAFcJ4hrLv/EVlNb76eK/YpSza/eU/b9BjGFUCw+fP+jLA01tePC/84KEXbZDBcDB9gYTsCWuv0bNqHx+XPy/1Xstxk+8x78uLLY26rLbvw++JkVKZsi/lInUeJ9N6b9h5T6HOSL6v71Ai9CC2fS/sgipiLWp2r9Fr8dW+Rvuv+PFU70Krdq/BDfCViNBsL9iGdg+X7fMv2gFEZBX6vC/a8J8cXkE+b9s1i92nSz5v0WekB1e1Oi/DS0SzX5h5L9/bj2aaPnRv7mLs++KR/a/j8do/yc3y78+ZwsN7Ub1vyYJ/oM76fG/18Ud1SI0nD9o68QlE6Xvv83C5Ku5JADApEs7dJBT67+sjkY+Z2PGv0/2R1TcWdi/gDq1mhitw7+1+86JpaH4v6Z6HI5KEeO/TwhbdkNx5r8+lg29Jfb4v5ExaImirfK/sa9g7els3L9OKnQyOXv7v0bNWXwPR+K/RGwdsBUn37/G2YlbzWjUv/6TgLFv8dK/S6/b9jwm6r8mAFtSILGTP08IW3ZDcea/wlrVOlT47L+LCiw2mtGWvw==\",\"dtype\":\"float64\",\"order\":\"little\",\"shape\":[53]},\"principal_component_1\":{\"__ndarray__\":\"dRWMhntt2T9JnJZFWCnxP2WBHlf2mtg//f4dZv7c379yGywXnaPtP4O/kDZaWXQ/M96FPizsv7+uz+h8JxTcP1NNsk78puE/OUUqJwTz5j/Oz63ghxOjv5hu06S8RdY/3rIv7V2iwz9n6iTH4XHzPyjYZACmFsQ/Wq1SDE473j8RyjX41qXzP4wxy7fjI+Q/HNCK7kVq5j8ehVUnIzDlP9kb1FJINai/Nj98rN0cvz9lj1g5BOqMPxrf6GWaNc4/Ds1ZRTXo8D+UsJMoZVfMP8+bvwf1kvA/rV4TnFcrsT9vNwN1kKDRP8F9yQ7wbdE/po3+VwPx4z+z3kvRzh7VP9fEFNWD6de/1iTllsIb0j8oX21EL8y2P/8jQhu5t8w/9ARG5kBd4j/pjFDrsj/dv9yA0gDGJNA/3V8IKHdz8j/soUp+m+/WP1n35HGkDPQ/GuKIxsts9z/7RPpdThD0P4pitwdQKu8/9IqkmmBE9T9ifP3wHsDyP9/2a9zEx/E/KTazatUo8z+XvvFQw4ztP91fCCh3c/I/SdVbMZXv+D832SvtkrLuPw==\",\"dtype\":\"float64\",\"order\":\"little\",\"shape\":[53]},\"principal_component_2\":{\"__ndarray__\":\"j80hw3Uh/L+EAFcJ4hrLv/EVlNb76eK/YpSza/eU/b9BjGFUCw+fP+jLA01tePC/84KEXbZDBcDB9gYTsCWuv0bNqHx+XPy/1Xstxk+8x78uLLY26rLbvw++JkVKZsi/lInUeJ9N6b9h5T6HOSL6v71Ai9CC2fS/sgipiLWp2r9Fr8dW+Rvuv+PFU70Krdq/BDfCViNBsL9iGdg+X7fMv2gFEZBX6vC/a8J8cXkE+b9s1i92nSz5v0WekB1e1Oi/DS0SzX5h5L9/bj2aaPnRv7mLs++KR/a/j8do/yc3y78+ZwsN7Ub1vyYJ/oM76fG/18Ud1SI0nD9o68QlE6Xvv83C5Ku5JADApEs7dJBT67+sjkY+Z2PGv0/2R1TcWdi/gDq1mhitw7+1+86JpaH4v6Z6HI5KEeO/TwhbdkNx5r8+lg29Jfb4v5ExaImirfK/sa9g7els3L9OKnQyOXv7v0bNWXwPR+K/RGwdsBUn37/G2YlbzWjUv/6TgLFv8dK/S6/b9jwm6r8mAFtSILGTP08IW3ZDcea/wlrVOlT47L+LCiw2mtGWvw==\",\"dtype\":\"float64\",\"order\":\"little\",\"shape\":[53]}},\"selected\":{\"id\":\"1185\"},\"selection_policy\":{\"id\":\"1201\"}},\"id\":\"1184\",\"type\":\"ColumnDataSource\"},{\"attributes\":{\"source\":{\"id\":\"1184\"}},\"id\":\"1191\",\"type\":\"CDSView\"},{\"attributes\":{},\"id\":\"1134\",\"type\":\"LinearScale\"},{\"attributes\":{\"coordinates\":null,\"data_source\":{\"id\":\"1184\"},\"glyph\":{\"id\":\"1187\"},\"group\":null,\"hover_glyph\":null,\"muted_glyph\":{\"id\":\"1189\"},\"nonselection_glyph\":{\"id\":\"1188\"},\"selection_glyph\":{\"id\":\"1205\"},\"view\":{\"id\":\"1191\"}},\"id\":\"1190\",\"type\":\"GlyphRenderer\"},{\"attributes\":{},\"id\":\"1137\",\"type\":\"BasicTicker\"},{\"attributes\":{\"coordinates\":null,\"data_source\":{\"id\":\"1206\"},\"glyph\":{\"id\":\"1209\"},\"group\":null,\"hover_glyph\":null,\"muted_glyph\":{\"id\":\"1211\"},\"nonselection_glyph\":{\"id\":\"1210\"},\"selection_glyph\":{\"id\":\"1229\"},\"view\":{\"id\":\"1213\"}},\"id\":\"1212\",\"type\":\"GlyphRenderer\"},{\"attributes\":{\"data\":{\"class\":{\"__ndarray__\":\"AgAAAAIAAAACAAAAAgAAAAIAAAACAAAAAgAAAAIAAAACAAAAAgAAAAIAAAACAAAAAgAAAAIAAAACAAAAAgAAAAIAAAACAAAAAgAAAAIAAAACAAAAAgAAAAIAAAACAAAAAgAAAAIAAAACAAAAAgAAAAIAAAACAAAAAgAAAAIAAAACAAAAAgAAAAIAAAACAAAAAgAAAAIAAAACAAAAAgAAAAIAAAACAAAAAgAAAAIAAAACAAAAAgAAAAIAAAA=\",\"dtype\":\"int32\",\"order\":\"little\",\"shape\":[47]},\"principal component 1\":{\"__ndarray__\":\"dZicP/Wp8T/qdLjqfHDnP0tUdjeu3/M/kH2nUXn15z+Et9eWSwfsPwTqCkTLn+c/a4kX1wP06z/sYaNJSxH0PxhwyrRZu/U/YyqW1lWi2z+nboqoZcrwP2JoZCMRkP0/XqOtkJqmAUCvkwP82gT3P8Sof1zh4v0/c0K5SJgIBkDnZzhbjmwCQPUm68uNAwBAIk9oqvMjAkBui3vYw9r1P6wQOb/Elfk/PK6UReUl/j8Y0QQIDXj5P3odkBhdivc/Q/YnSsB/A0AzhisDH3kKQJbn9rPvUgBAOC4taDwvB0BEqLnnkUT7P6gJnj3aUv8/H9Lu7wVR8D+d2hYHfpP8P4EbVl0h1v0/i/hsDuZ7A0A0tjE3VocCQGotB9QUxP0/j042KVhoBkCy+a/eUEj5P+/OTXR+jfU/PwUQICao/T8PDMQGFyEAQLtqwqkqc/4/OQ5TGLJYAEC7eb2NdgMAQPHgNY2o7f0/+IJComFV+D8P9OTEsgX2Pw==\",\"dtype\":\"float64\",\"order\":\"little\",\"shape\":[47]},\"principal component 2\":{\"__ndarray__\":\"1nb2/Z2e6z8aPDfKBSjjP9bNPSGgrOM/sl+rWRnr6D9iOXqk51HgP41BqiETwtk/XZ7yIJwL0D8AiLBClya1vz8teShkC9U/DAg+Gkhd6z+/k6QJ17XgP4Asy2Xw5Os/B8TpFji+4T+dlDOr+pqpv+xEGSLnotI/nwetLdY66T9NO0mDhTXaP7CQnq/nKee/u42XATu+/j8zoQKF0jTmP2x9L85taNu/bKdDi22E2j8vfGgVRqrlPzM3rDJONNA/fzlsMT10BEA1i6QTDFhjvz50hSJpCe0/a5KR42l12T+PWt+y8znwP5yAK36oDfA/Y6j7cmzHsD/rvEvBKb3Iv4/kXX2vxeE/yV7ipF+Szz8j4TWwbAIFQJWBO1NYo8e/SCs1XS0I6z+kj2oE2yjxPxr8A+M9Bts/uaTAq3yE5T/X+zteX4jjP9x2Ilnq8+U/tyJfoH+r6z86eOdp3MbwP/RDMiongNg/eNtvjSkT0T8dLdG5BEPwPw==\",\"dtype\":\"float64\",\"order\":\"little\",\"shape\":[47]},\"principal_component_1\":{\"__ndarray__\":\"dZicP/Wp8T/qdLjqfHDnP0tUdjeu3/M/kH2nUXn15z+Et9eWSwfsPwTqCkTLn+c/a4kX1wP06z/sYaNJSxH0PxhwyrRZu/U/YyqW1lWi2z+nboqoZcrwP2JoZCMRkP0/XqOtkJqmAUCvkwP82gT3P8Sof1zh4v0/c0K5SJgIBkDnZzhbjmwCQPUm68uNAwBAIk9oqvMjAkBui3vYw9r1P6wQOb/Elfk/PK6UReUl/j8Y0QQIDXj5P3odkBhdivc/Q/YnSsB/A0AzhisDH3kKQJbn9rPvUgBAOC4taDwvB0BEqLnnkUT7P6gJnj3aUv8/H9Lu7wVR8D+d2hYHfpP8P4EbVl0h1v0/i/hsDuZ7A0A0tjE3VocCQGotB9QUxP0/j042KVhoBkCy+a/eUEj5P+/OTXR+jfU/PwUQICao/T8PDMQGFyEAQLtqwqkqc/4/OQ5TGLJYAEC7eb2NdgMAQPHgNY2o7f0/+IJComFV+D8P9OTEsgX2Pw==\",\"dtype\":\"float64\",\"order\":\"little\",\"shape\":[47]},\"principal_component_2\":{\"__ndarray__\":\"1nb2/Z2e6z8aPDfKBSjjP9bNPSGgrOM/sl+rWRnr6D9iOXqk51HgP41BqiETwtk/XZ7yIJwL0D8AiLBClya1vz8teShkC9U/DAg+Gkhd6z+/k6QJ17XgP4Asy2Xw5Os/B8TpFji+4T+dlDOr+pqpv+xEGSLnotI/nwetLdY66T9NO0mDhTXaP7CQnq/nKee/u42XATu+/j8zoQKF0jTmP2x9L85taNu/bKdDi22E2j8vfGgVRqrlPzM3rDJONNA/fzlsMT10BEA1i6QTDFhjvz50hSJpCe0/a5KR42l12T+PWt+y8znwP5yAK36oDfA/Y6j7cmzHsD/rvEvBKb3Iv4/kXX2vxeE/yV7ipF+Szz8j4TWwbAIFQJWBO1NYo8e/SCs1XS0I6z+kj2oE2yjxPxr8A+M9Bts/uaTAq3yE5T/X+zteX4jjP9x2Ilnq8+U/tyJfoH+r6z86eOdp3MbwP/RDMiongNg/eNtvjSkT0T8dLdG5BEPwPw==\",\"dtype\":\"float64\",\"order\":\"little\",\"shape\":[47]}},\"selected\":{\"id\":\"1207\"},\"selection_policy\":{\"id\":\"1225\"}},\"id\":\"1206\",\"type\":\"ColumnDataSource\"},{\"attributes\":{\"axis\":{\"id\":\"1136\"},\"coordinates\":null,\"grid_line_color\":null,\"group\":null,\"ticker\":null},\"id\":\"1139\",\"type\":\"Grid\"},{\"attributes\":{\"fill_alpha\":{\"value\":0.1},\"fill_color\":{\"value\":\"#30a2da\"},\"hatch_alpha\":{\"value\":0.1},\"hatch_color\":{\"value\":\"#30a2da\"},\"line_alpha\":{\"value\":0.1},\"line_color\":{\"value\":\"#30a2da\"},\"size\":{\"value\":5.477225575051661},\"x\":{\"field\":\"principal component 1\"},\"y\":{\"field\":\"principal component 2\"}},\"id\":\"1167\",\"type\":\"Scatter\"}],\"root_ids\":[\"1120\"]},\"title\":\"Bokeh Application\",\"version\":\"2.4.2\"}};\n",
       "    var render_items = [{\"docid\":\"217647fc-b679-464e-8048-a229c4d9c7a2\",\"root_ids\":[\"1120\"],\"roots\":{\"1120\":\"2c15c2fa-d2d4-4f3d-ba18-ae55169af825\"}}];\n",
       "    root.Bokeh.embed.embed_items_notebook(docs_json, render_items);\n",
       "  }\n",
       "  if (root.Bokeh !== undefined && root.Bokeh.Panel !== undefined) {\n",
       "    embed_document(root);\n",
       "  } else {\n",
       "    var attempts = 0;\n",
       "    var timer = setInterval(function(root) {\n",
       "      if (root.Bokeh !== undefined && root.Bokeh.Panel !== undefined) {\n",
       "        clearInterval(timer);\n",
       "        embed_document(root);\n",
       "      } else if (document.readyState == \"complete\") {\n",
       "        attempts++;\n",
       "        if (attempts > 200) {\n",
       "          clearInterval(timer);\n",
       "          console.log(\"Bokeh: ERROR: Unable to run BokehJS code because BokehJS library is missing\");\n",
       "        }\n",
       "      }\n",
       "    }, 25, root)\n",
       "  }\n",
       "})(window);</script>"
      ],
      "text/plain": [
       ":NdOverlay   [class]\n",
       "   :Scatter   [principal component 1]   (principal component 2,class)"
      ]
     },
     "execution_count": 9,
     "metadata": {
      "application/vnd.holoviews_exec.v0+json": {
       "id": "1120"
      }
     },
     "output_type": "execute_result"
    }
   ],
   "source": [
    "df_iris_pca.hvplot.scatter(\n",
    "    x=\"principal component 1\",\n",
    "    y=\"principal component 2\",\n",
    "    hover_cols=[\"class\"],\n",
    "    by=\"class\",\n",
    ")\n"
   ]
  },
  {
   "cell_type": "code",
   "execution_count": null,
   "id": "28514790",
   "metadata": {},
   "outputs": [],
   "source": [
    "fig = ff.create_denogram(df_iris_pca, color_threshold=0)\n",
    "fig.update_layout(width=800, height=500)\n",
    "fig.show()"
   ]
  }
 ],
 "metadata": {
  "kernelspec": {
   "display_name": "mlenv",
   "language": "python",
   "name": "mlenv"
  },
  "language_info": {
   "codemirror_mode": {
    "name": "ipython",
    "version": 3
   },
   "file_extension": ".py",
   "mimetype": "text/x-python",
   "name": "python",
   "nbconvert_exporter": "python",
   "pygments_lexer": "ipython3",
   "version": "3.7.11"
  }
 },
 "nbformat": 4,
 "nbformat_minor": 5
}
